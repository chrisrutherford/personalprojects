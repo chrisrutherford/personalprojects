{
  "nbformat": 4,
  "nbformat_minor": 0,
  "metadata": {
    "colab": {
      "name": "Netflix analysis.ipynb",
      "provenance": [],
      "authorship_tag": "ABX9TyO3ejgpC8V8CQPbtuGJA27P",
      "include_colab_link": true
    },
    "kernelspec": {
      "name": "python3",
      "display_name": "Python 3"
    }
  },
  "cells": [
    {
      "cell_type": "markdown",
      "metadata": {
        "id": "view-in-github",
        "colab_type": "text"
      },
      "source": [
        "<a href=\"https://colab.research.google.com/github/chrisrutherford/projects/blob/master/netflix/Netflix_analysis.ipynb\" target=\"_parent\"><img src=\"https://colab.research.google.com/assets/colab-badge.svg\" alt=\"Open In Colab\"/></a>"
      ]
    },
    {
      "cell_type": "markdown",
      "metadata": {
        "id": "9NErih6DXolC"
      },
      "source": [
        "# Analysis of Netflix data\r\n",
        "\r\n",
        "From [Kaggle](https://www.kaggle.com/shivamb/netflix-shows):\r\n",
        "\r\n",
        "This dataset consists of tv shows and movies available on Netflix as of 2019. The dataset is collected from Flixable which is a third-party Netflix search engine. "
      ]
    },
    {
      "cell_type": "markdown",
      "metadata": {
        "id": "xQDYdr2qg8ap"
      },
      "source": [
        "We begin by importing some common analysis libraries:"
      ]
    },
    {
      "cell_type": "code",
      "metadata": {
        "id": "J6LykdGkXmqL"
      },
      "source": [
        "import numpy as np\r\n",
        "import pandas as pd\r\n",
        "import matplotlib.pyplot as plt"
      ],
      "execution_count": 4,
      "outputs": []
    },
    {
      "cell_type": "code",
      "metadata": {
        "id": "_qpiTnYsl0TK"
      },
      "source": [
        "import seaborn as sns; sns.set()\r\n",
        "import warnings\r\n",
        "warnings.filterwarnings(\"ignore\")"
      ],
      "execution_count": 95,
      "outputs": []
    },
    {
      "cell_type": "markdown",
      "metadata": {
        "id": "59w26CjoSAPs"
      },
      "source": [
        "Importing the data:"
      ]
    },
    {
      "cell_type": "code",
      "metadata": {
        "id": "uI_pDd8Pdx5f"
      },
      "source": [
        "data = pd.read_csv(\"https://github.com/chrisrutherford/projects/blob/master/netflix/netflix_titles.csv?raw=true\")"
      ],
      "execution_count": 176,
      "outputs": []
    },
    {
      "cell_type": "markdown",
      "metadata": {
        "id": "YfFdyu3silYW"
      },
      "source": [
        "Let's verify that the data imported properly:"
      ]
    },
    {
      "cell_type": "code",
      "metadata": {
        "colab": {
          "base_uri": "https://localhost:8080/",
          "height": 597
        },
        "id": "r88ymVGxeBL5",
        "outputId": "46a0d789-8376-4652-8856-5ad2c504130c"
      },
      "source": [
        "data"
      ],
      "execution_count": 177,
      "outputs": [
        {
          "output_type": "execute_result",
          "data": {
            "text/html": [
              "<div>\n",
              "<style scoped>\n",
              "    .dataframe tbody tr th:only-of-type {\n",
              "        vertical-align: middle;\n",
              "    }\n",
              "\n",
              "    .dataframe tbody tr th {\n",
              "        vertical-align: top;\n",
              "    }\n",
              "\n",
              "    .dataframe thead th {\n",
              "        text-align: right;\n",
              "    }\n",
              "</style>\n",
              "<table border=\"1\" class=\"dataframe\">\n",
              "  <thead>\n",
              "    <tr style=\"text-align: right;\">\n",
              "      <th></th>\n",
              "      <th>show_id</th>\n",
              "      <th>type</th>\n",
              "      <th>title</th>\n",
              "      <th>director</th>\n",
              "      <th>cast</th>\n",
              "      <th>country</th>\n",
              "      <th>date_added</th>\n",
              "      <th>release_year</th>\n",
              "      <th>rating</th>\n",
              "      <th>duration</th>\n",
              "      <th>listed_in</th>\n",
              "      <th>description</th>\n",
              "    </tr>\n",
              "  </thead>\n",
              "  <tbody>\n",
              "    <tr>\n",
              "      <th>0</th>\n",
              "      <td>s1</td>\n",
              "      <td>TV Show</td>\n",
              "      <td>3%</td>\n",
              "      <td>NaN</td>\n",
              "      <td>João Miguel, Bianca Comparato, Michel Gomes, R...</td>\n",
              "      <td>Brazil</td>\n",
              "      <td>August 14, 2020</td>\n",
              "      <td>2020</td>\n",
              "      <td>TV-MA</td>\n",
              "      <td>4 Seasons</td>\n",
              "      <td>International TV Shows, TV Dramas, TV Sci-Fi &amp;...</td>\n",
              "      <td>In a future where the elite inhabit an island ...</td>\n",
              "    </tr>\n",
              "    <tr>\n",
              "      <th>1</th>\n",
              "      <td>s2</td>\n",
              "      <td>Movie</td>\n",
              "      <td>7:19</td>\n",
              "      <td>Jorge Michel Grau</td>\n",
              "      <td>Demián Bichir, Héctor Bonilla, Oscar Serrano, ...</td>\n",
              "      <td>Mexico</td>\n",
              "      <td>December 23, 2016</td>\n",
              "      <td>2016</td>\n",
              "      <td>TV-MA</td>\n",
              "      <td>93 min</td>\n",
              "      <td>Dramas, International Movies</td>\n",
              "      <td>After a devastating earthquake hits Mexico Cit...</td>\n",
              "    </tr>\n",
              "    <tr>\n",
              "      <th>2</th>\n",
              "      <td>s3</td>\n",
              "      <td>Movie</td>\n",
              "      <td>23:59</td>\n",
              "      <td>Gilbert Chan</td>\n",
              "      <td>Tedd Chan, Stella Chung, Henley Hii, Lawrence ...</td>\n",
              "      <td>Singapore</td>\n",
              "      <td>December 20, 2018</td>\n",
              "      <td>2011</td>\n",
              "      <td>R</td>\n",
              "      <td>78 min</td>\n",
              "      <td>Horror Movies, International Movies</td>\n",
              "      <td>When an army recruit is found dead, his fellow...</td>\n",
              "    </tr>\n",
              "    <tr>\n",
              "      <th>3</th>\n",
              "      <td>s4</td>\n",
              "      <td>Movie</td>\n",
              "      <td>9</td>\n",
              "      <td>Shane Acker</td>\n",
              "      <td>Elijah Wood, John C. Reilly, Jennifer Connelly...</td>\n",
              "      <td>United States</td>\n",
              "      <td>November 16, 2017</td>\n",
              "      <td>2009</td>\n",
              "      <td>PG-13</td>\n",
              "      <td>80 min</td>\n",
              "      <td>Action &amp; Adventure, Independent Movies, Sci-Fi...</td>\n",
              "      <td>In a postapocalyptic world, rag-doll robots hi...</td>\n",
              "    </tr>\n",
              "    <tr>\n",
              "      <th>4</th>\n",
              "      <td>s5</td>\n",
              "      <td>Movie</td>\n",
              "      <td>21</td>\n",
              "      <td>Robert Luketic</td>\n",
              "      <td>Jim Sturgess, Kevin Spacey, Kate Bosworth, Aar...</td>\n",
              "      <td>United States</td>\n",
              "      <td>January 1, 2020</td>\n",
              "      <td>2008</td>\n",
              "      <td>PG-13</td>\n",
              "      <td>123 min</td>\n",
              "      <td>Dramas</td>\n",
              "      <td>A brilliant group of students become card-coun...</td>\n",
              "    </tr>\n",
              "    <tr>\n",
              "      <th>...</th>\n",
              "      <td>...</td>\n",
              "      <td>...</td>\n",
              "      <td>...</td>\n",
              "      <td>...</td>\n",
              "      <td>...</td>\n",
              "      <td>...</td>\n",
              "      <td>...</td>\n",
              "      <td>...</td>\n",
              "      <td>...</td>\n",
              "      <td>...</td>\n",
              "      <td>...</td>\n",
              "      <td>...</td>\n",
              "    </tr>\n",
              "    <tr>\n",
              "      <th>7782</th>\n",
              "      <td>s7783</td>\n",
              "      <td>Movie</td>\n",
              "      <td>Zozo</td>\n",
              "      <td>Josef Fares</td>\n",
              "      <td>Imad Creidi, Antoinette Turk, Elias Gergi, Car...</td>\n",
              "      <td>Sweden, Czech Republic, United Kingdom, Denmar...</td>\n",
              "      <td>October 19, 2020</td>\n",
              "      <td>2005</td>\n",
              "      <td>TV-MA</td>\n",
              "      <td>99 min</td>\n",
              "      <td>Dramas, International Movies</td>\n",
              "      <td>When Lebanon's Civil War deprives Zozo of his ...</td>\n",
              "    </tr>\n",
              "    <tr>\n",
              "      <th>7783</th>\n",
              "      <td>s7784</td>\n",
              "      <td>Movie</td>\n",
              "      <td>Zubaan</td>\n",
              "      <td>Mozez Singh</td>\n",
              "      <td>Vicky Kaushal, Sarah-Jane Dias, Raaghav Chanan...</td>\n",
              "      <td>India</td>\n",
              "      <td>March 2, 2019</td>\n",
              "      <td>2015</td>\n",
              "      <td>TV-14</td>\n",
              "      <td>111 min</td>\n",
              "      <td>Dramas, International Movies, Music &amp; Musicals</td>\n",
              "      <td>A scrappy but poor boy worms his way into a ty...</td>\n",
              "    </tr>\n",
              "    <tr>\n",
              "      <th>7784</th>\n",
              "      <td>s7785</td>\n",
              "      <td>Movie</td>\n",
              "      <td>Zulu Man in Japan</td>\n",
              "      <td>NaN</td>\n",
              "      <td>Nasty C</td>\n",
              "      <td>NaN</td>\n",
              "      <td>September 25, 2020</td>\n",
              "      <td>2019</td>\n",
              "      <td>TV-MA</td>\n",
              "      <td>44 min</td>\n",
              "      <td>Documentaries, International Movies, Music &amp; M...</td>\n",
              "      <td>In this documentary, South African rapper Nast...</td>\n",
              "    </tr>\n",
              "    <tr>\n",
              "      <th>7785</th>\n",
              "      <td>s7786</td>\n",
              "      <td>TV Show</td>\n",
              "      <td>Zumbo's Just Desserts</td>\n",
              "      <td>NaN</td>\n",
              "      <td>Adriano Zumbo, Rachel Khoo</td>\n",
              "      <td>Australia</td>\n",
              "      <td>October 31, 2020</td>\n",
              "      <td>2019</td>\n",
              "      <td>TV-PG</td>\n",
              "      <td>1 Season</td>\n",
              "      <td>International TV Shows, Reality TV</td>\n",
              "      <td>Dessert wizard Adriano Zumbo looks for the nex...</td>\n",
              "    </tr>\n",
              "    <tr>\n",
              "      <th>7786</th>\n",
              "      <td>s7787</td>\n",
              "      <td>Movie</td>\n",
              "      <td>ZZ TOP: THAT LITTLE OL' BAND FROM TEXAS</td>\n",
              "      <td>Sam Dunn</td>\n",
              "      <td>NaN</td>\n",
              "      <td>United Kingdom, Canada, United States</td>\n",
              "      <td>March 1, 2020</td>\n",
              "      <td>2019</td>\n",
              "      <td>TV-MA</td>\n",
              "      <td>90 min</td>\n",
              "      <td>Documentaries, Music &amp; Musicals</td>\n",
              "      <td>This documentary delves into the mystique behi...</td>\n",
              "    </tr>\n",
              "  </tbody>\n",
              "</table>\n",
              "<p>7787 rows × 12 columns</p>\n",
              "</div>"
            ],
            "text/plain": [
              "     show_id  ...                                        description\n",
              "0         s1  ...  In a future where the elite inhabit an island ...\n",
              "1         s2  ...  After a devastating earthquake hits Mexico Cit...\n",
              "2         s3  ...  When an army recruit is found dead, his fellow...\n",
              "3         s4  ...  In a postapocalyptic world, rag-doll robots hi...\n",
              "4         s5  ...  A brilliant group of students become card-coun...\n",
              "...      ...  ...                                                ...\n",
              "7782   s7783  ...  When Lebanon's Civil War deprives Zozo of his ...\n",
              "7783   s7784  ...  A scrappy but poor boy worms his way into a ty...\n",
              "7784   s7785  ...  In this documentary, South African rapper Nast...\n",
              "7785   s7786  ...  Dessert wizard Adriano Zumbo looks for the nex...\n",
              "7786   s7787  ...  This documentary delves into the mystique behi...\n",
              "\n",
              "[7787 rows x 12 columns]"
            ]
          },
          "metadata": {
            "tags": []
          },
          "execution_count": 177
        }
      ]
    },
    {
      "cell_type": "code",
      "metadata": {
        "colab": {
          "base_uri": "https://localhost:8080/"
        },
        "id": "KcDddyxhf4ww",
        "outputId": "bee232e8-e5e2-4faf-b539-fb8cab5b9628"
      },
      "source": [
        "print(data.dtypes)\r\n",
        "print(\"\\nNAs:\")\r\n",
        "print(np.sum(pd.isna(data)))"
      ],
      "execution_count": 178,
      "outputs": [
        {
          "output_type": "stream",
          "text": [
            "show_id         object\n",
            "type            object\n",
            "title           object\n",
            "director        object\n",
            "cast            object\n",
            "country         object\n",
            "date_added      object\n",
            "release_year     int64\n",
            "rating          object\n",
            "duration        object\n",
            "listed_in       object\n",
            "description     object\n",
            "dtype: object\n",
            "\n",
            "NAs:\n",
            "show_id            0\n",
            "type               0\n",
            "title              0\n",
            "director        2389\n",
            "cast             718\n",
            "country          507\n",
            "date_added        10\n",
            "release_year       0\n",
            "rating             7\n",
            "duration           0\n",
            "listed_in          0\n",
            "description        0\n",
            "dtype: int64\n"
          ],
          "name": "stdout"
        }
      ]
    },
    {
      "cell_type": "markdown",
      "metadata": {
        "id": "cQ4WdkImipq3"
      },
      "source": [
        "Everything seems alright so far. Some data is missing in a few columns, but this is likely from Netflix or the search engine. Additionally, every column besides `release_year` imported as an object, so we should convert them to manipulate and work with them easier. We can automatically convert all of the columns first and then convert individual columns as necessary."
      ]
    },
    {
      "cell_type": "code",
      "metadata": {
        "colab": {
          "base_uri": "https://localhost:8080/",
          "height": 597
        },
        "id": "gl0_YTenf6Tl",
        "outputId": "eb698936-bea3-4383-c4d1-5107036e3e15"
      },
      "source": [
        "data_conv = data.convert_dtypes()\r\n",
        "data_conv"
      ],
      "execution_count": 180,
      "outputs": [
        {
          "output_type": "execute_result",
          "data": {
            "text/html": [
              "<div>\n",
              "<style scoped>\n",
              "    .dataframe tbody tr th:only-of-type {\n",
              "        vertical-align: middle;\n",
              "    }\n",
              "\n",
              "    .dataframe tbody tr th {\n",
              "        vertical-align: top;\n",
              "    }\n",
              "\n",
              "    .dataframe thead th {\n",
              "        text-align: right;\n",
              "    }\n",
              "</style>\n",
              "<table border=\"1\" class=\"dataframe\">\n",
              "  <thead>\n",
              "    <tr style=\"text-align: right;\">\n",
              "      <th></th>\n",
              "      <th>show_id</th>\n",
              "      <th>type</th>\n",
              "      <th>title</th>\n",
              "      <th>director</th>\n",
              "      <th>cast</th>\n",
              "      <th>country</th>\n",
              "      <th>date_added</th>\n",
              "      <th>release_year</th>\n",
              "      <th>rating</th>\n",
              "      <th>duration</th>\n",
              "      <th>listed_in</th>\n",
              "      <th>description</th>\n",
              "    </tr>\n",
              "  </thead>\n",
              "  <tbody>\n",
              "    <tr>\n",
              "      <th>0</th>\n",
              "      <td>s1</td>\n",
              "      <td>TV Show</td>\n",
              "      <td>3%</td>\n",
              "      <td>&lt;NA&gt;</td>\n",
              "      <td>João Miguel, Bianca Comparato, Michel Gomes, R...</td>\n",
              "      <td>Brazil</td>\n",
              "      <td>August 14, 2020</td>\n",
              "      <td>2020</td>\n",
              "      <td>TV-MA</td>\n",
              "      <td>4 Seasons</td>\n",
              "      <td>International TV Shows, TV Dramas, TV Sci-Fi &amp;...</td>\n",
              "      <td>In a future where the elite inhabit an island ...</td>\n",
              "    </tr>\n",
              "    <tr>\n",
              "      <th>1</th>\n",
              "      <td>s2</td>\n",
              "      <td>Movie</td>\n",
              "      <td>7:19</td>\n",
              "      <td>Jorge Michel Grau</td>\n",
              "      <td>Demián Bichir, Héctor Bonilla, Oscar Serrano, ...</td>\n",
              "      <td>Mexico</td>\n",
              "      <td>December 23, 2016</td>\n",
              "      <td>2016</td>\n",
              "      <td>TV-MA</td>\n",
              "      <td>93 min</td>\n",
              "      <td>Dramas, International Movies</td>\n",
              "      <td>After a devastating earthquake hits Mexico Cit...</td>\n",
              "    </tr>\n",
              "    <tr>\n",
              "      <th>2</th>\n",
              "      <td>s3</td>\n",
              "      <td>Movie</td>\n",
              "      <td>23:59</td>\n",
              "      <td>Gilbert Chan</td>\n",
              "      <td>Tedd Chan, Stella Chung, Henley Hii, Lawrence ...</td>\n",
              "      <td>Singapore</td>\n",
              "      <td>December 20, 2018</td>\n",
              "      <td>2011</td>\n",
              "      <td>R</td>\n",
              "      <td>78 min</td>\n",
              "      <td>Horror Movies, International Movies</td>\n",
              "      <td>When an army recruit is found dead, his fellow...</td>\n",
              "    </tr>\n",
              "    <tr>\n",
              "      <th>3</th>\n",
              "      <td>s4</td>\n",
              "      <td>Movie</td>\n",
              "      <td>9</td>\n",
              "      <td>Shane Acker</td>\n",
              "      <td>Elijah Wood, John C. Reilly, Jennifer Connelly...</td>\n",
              "      <td>United States</td>\n",
              "      <td>November 16, 2017</td>\n",
              "      <td>2009</td>\n",
              "      <td>PG-13</td>\n",
              "      <td>80 min</td>\n",
              "      <td>Action &amp; Adventure, Independent Movies, Sci-Fi...</td>\n",
              "      <td>In a postapocalyptic world, rag-doll robots hi...</td>\n",
              "    </tr>\n",
              "    <tr>\n",
              "      <th>4</th>\n",
              "      <td>s5</td>\n",
              "      <td>Movie</td>\n",
              "      <td>21</td>\n",
              "      <td>Robert Luketic</td>\n",
              "      <td>Jim Sturgess, Kevin Spacey, Kate Bosworth, Aar...</td>\n",
              "      <td>United States</td>\n",
              "      <td>January 1, 2020</td>\n",
              "      <td>2008</td>\n",
              "      <td>PG-13</td>\n",
              "      <td>123 min</td>\n",
              "      <td>Dramas</td>\n",
              "      <td>A brilliant group of students become card-coun...</td>\n",
              "    </tr>\n",
              "    <tr>\n",
              "      <th>...</th>\n",
              "      <td>...</td>\n",
              "      <td>...</td>\n",
              "      <td>...</td>\n",
              "      <td>...</td>\n",
              "      <td>...</td>\n",
              "      <td>...</td>\n",
              "      <td>...</td>\n",
              "      <td>...</td>\n",
              "      <td>...</td>\n",
              "      <td>...</td>\n",
              "      <td>...</td>\n",
              "      <td>...</td>\n",
              "    </tr>\n",
              "    <tr>\n",
              "      <th>7782</th>\n",
              "      <td>s7783</td>\n",
              "      <td>Movie</td>\n",
              "      <td>Zozo</td>\n",
              "      <td>Josef Fares</td>\n",
              "      <td>Imad Creidi, Antoinette Turk, Elias Gergi, Car...</td>\n",
              "      <td>Sweden, Czech Republic, United Kingdom, Denmar...</td>\n",
              "      <td>October 19, 2020</td>\n",
              "      <td>2005</td>\n",
              "      <td>TV-MA</td>\n",
              "      <td>99 min</td>\n",
              "      <td>Dramas, International Movies</td>\n",
              "      <td>When Lebanon's Civil War deprives Zozo of his ...</td>\n",
              "    </tr>\n",
              "    <tr>\n",
              "      <th>7783</th>\n",
              "      <td>s7784</td>\n",
              "      <td>Movie</td>\n",
              "      <td>Zubaan</td>\n",
              "      <td>Mozez Singh</td>\n",
              "      <td>Vicky Kaushal, Sarah-Jane Dias, Raaghav Chanan...</td>\n",
              "      <td>India</td>\n",
              "      <td>March 2, 2019</td>\n",
              "      <td>2015</td>\n",
              "      <td>TV-14</td>\n",
              "      <td>111 min</td>\n",
              "      <td>Dramas, International Movies, Music &amp; Musicals</td>\n",
              "      <td>A scrappy but poor boy worms his way into a ty...</td>\n",
              "    </tr>\n",
              "    <tr>\n",
              "      <th>7784</th>\n",
              "      <td>s7785</td>\n",
              "      <td>Movie</td>\n",
              "      <td>Zulu Man in Japan</td>\n",
              "      <td>&lt;NA&gt;</td>\n",
              "      <td>Nasty C</td>\n",
              "      <td>&lt;NA&gt;</td>\n",
              "      <td>September 25, 2020</td>\n",
              "      <td>2019</td>\n",
              "      <td>TV-MA</td>\n",
              "      <td>44 min</td>\n",
              "      <td>Documentaries, International Movies, Music &amp; M...</td>\n",
              "      <td>In this documentary, South African rapper Nast...</td>\n",
              "    </tr>\n",
              "    <tr>\n",
              "      <th>7785</th>\n",
              "      <td>s7786</td>\n",
              "      <td>TV Show</td>\n",
              "      <td>Zumbo's Just Desserts</td>\n",
              "      <td>&lt;NA&gt;</td>\n",
              "      <td>Adriano Zumbo, Rachel Khoo</td>\n",
              "      <td>Australia</td>\n",
              "      <td>October 31, 2020</td>\n",
              "      <td>2019</td>\n",
              "      <td>TV-PG</td>\n",
              "      <td>1 Season</td>\n",
              "      <td>International TV Shows, Reality TV</td>\n",
              "      <td>Dessert wizard Adriano Zumbo looks for the nex...</td>\n",
              "    </tr>\n",
              "    <tr>\n",
              "      <th>7786</th>\n",
              "      <td>s7787</td>\n",
              "      <td>Movie</td>\n",
              "      <td>ZZ TOP: THAT LITTLE OL' BAND FROM TEXAS</td>\n",
              "      <td>Sam Dunn</td>\n",
              "      <td>&lt;NA&gt;</td>\n",
              "      <td>United Kingdom, Canada, United States</td>\n",
              "      <td>March 1, 2020</td>\n",
              "      <td>2019</td>\n",
              "      <td>TV-MA</td>\n",
              "      <td>90 min</td>\n",
              "      <td>Documentaries, Music &amp; Musicals</td>\n",
              "      <td>This documentary delves into the mystique behi...</td>\n",
              "    </tr>\n",
              "  </tbody>\n",
              "</table>\n",
              "<p>7787 rows × 12 columns</p>\n",
              "</div>"
            ],
            "text/plain": [
              "     show_id  ...                                        description\n",
              "0         s1  ...  In a future where the elite inhabit an island ...\n",
              "1         s2  ...  After a devastating earthquake hits Mexico Cit...\n",
              "2         s3  ...  When an army recruit is found dead, his fellow...\n",
              "3         s4  ...  In a postapocalyptic world, rag-doll robots hi...\n",
              "4         s5  ...  A brilliant group of students become card-coun...\n",
              "...      ...  ...                                                ...\n",
              "7782   s7783  ...  When Lebanon's Civil War deprives Zozo of his ...\n",
              "7783   s7784  ...  A scrappy but poor boy worms his way into a ty...\n",
              "7784   s7785  ...  In this documentary, South African rapper Nast...\n",
              "7785   s7786  ...  Dessert wizard Adriano Zumbo looks for the nex...\n",
              "7786   s7787  ...  This documentary delves into the mystique behi...\n",
              "\n",
              "[7787 rows x 12 columns]"
            ]
          },
          "metadata": {
            "tags": []
          },
          "execution_count": 180
        }
      ]
    },
    {
      "cell_type": "code",
      "metadata": {
        "colab": {
          "base_uri": "https://localhost:8080/"
        },
        "id": "iJhMXdhJgOWl",
        "outputId": "7588884a-d805-411e-a27c-35c000e7c84c"
      },
      "source": [
        "data_conv.dtypes"
      ],
      "execution_count": 181,
      "outputs": [
        {
          "output_type": "execute_result",
          "data": {
            "text/plain": [
              "show_id         string\n",
              "type            string\n",
              "title           string\n",
              "director        string\n",
              "cast            string\n",
              "country         string\n",
              "date_added      string\n",
              "release_year     Int64\n",
              "rating          string\n",
              "duration        string\n",
              "listed_in       string\n",
              "description     string\n",
              "dtype: object"
            ]
          },
          "metadata": {
            "tags": []
          },
          "execution_count": 181
        }
      ]
    },
    {
      "cell_type": "markdown",
      "metadata": {
        "id": "oCAibCrG5XgN"
      },
      "source": [
        "Now that each column is a string, it will be much easier to deal with any other conversions. Either way, it will be easier to manipulate the data compared to dealing with an object."
      ]
    },
    {
      "cell_type": "markdown",
      "metadata": {
        "id": "YpMk8hOLFmIP"
      },
      "source": [
        "Since `date_added` is a date, we will convert it to a datetime object instead of leaving it as a string."
      ]
    },
    {
      "cell_type": "code",
      "metadata": {
        "id": "PQYpS-gZgP_W"
      },
      "source": [
        "data_conv[\"date_added\"] = pd.to_datetime(data_conv[\"date_added\"])"
      ],
      "execution_count": 182,
      "outputs": []
    },
    {
      "cell_type": "code",
      "metadata": {
        "colab": {
          "base_uri": "https://localhost:8080/"
        },
        "id": "2sBcRPqTgbZ3",
        "outputId": "2d990cb3-f87f-4ada-9a26-57b9fb0a82d2"
      },
      "source": [
        "data_conv[\"date_added\"]"
      ],
      "execution_count": 183,
      "outputs": [
        {
          "output_type": "execute_result",
          "data": {
            "text/plain": [
              "0      2020-08-14\n",
              "1      2016-12-23\n",
              "2      2018-12-20\n",
              "3      2017-11-16\n",
              "4      2020-01-01\n",
              "          ...    \n",
              "7782   2020-10-19\n",
              "7783   2019-03-02\n",
              "7784   2020-09-25\n",
              "7785   2020-10-31\n",
              "7786   2020-03-01\n",
              "Name: date_added, Length: 7787, dtype: datetime64[ns]"
            ]
          },
          "metadata": {
            "tags": []
          },
          "execution_count": 183
        }
      ]
    },
    {
      "cell_type": "markdown",
      "metadata": {
        "id": "-R_EErSejrlZ"
      },
      "source": [
        "This may be a little easier to work with now. We can look at how various columns are distributed, starting with the number of TV shows and movies:"
      ]
    },
    {
      "cell_type": "code",
      "metadata": {
        "colab": {
          "base_uri": "https://localhost:8080/"
        },
        "id": "e48cOQuplgBQ",
        "outputId": "2a9124a4-2da3-4f9f-dfbd-dc76d685a12d"
      },
      "source": [
        "type_count = data_conv['type'].value_counts()\r\n",
        "type_count"
      ],
      "execution_count": 184,
      "outputs": [
        {
          "output_type": "execute_result",
          "data": {
            "text/plain": [
              "Movie      5377\n",
              "TV Show    2410\n",
              "Name: type, dtype: Int64"
            ]
          },
          "metadata": {
            "tags": []
          },
          "execution_count": 184
        }
      ]
    },
    {
      "cell_type": "code",
      "metadata": {
        "colab": {
          "base_uri": "https://localhost:8080/"
        },
        "id": "TsgTNNkusMMd",
        "outputId": "0dc02f8f-f080-49c0-94de-7e337fe44368"
      },
      "source": [
        "tv_shows = data_conv[data_conv['type'] == \"TV Show\"]\r\n",
        "movies = data_conv[data_conv['type'] == \"Movie\"]\r\n",
        "print(len(movies), len(tv_shows))"
      ],
      "execution_count": 185,
      "outputs": [
        {
          "output_type": "stream",
          "text": [
            "5377 2410\n"
          ],
          "name": "stdout"
        }
      ]
    },
    {
      "cell_type": "code",
      "metadata": {
        "id": "KD7D_nRKjra6"
      },
      "source": [
        "ratings_count_tv = tv_shows['rating'].value_counts()\r\n",
        "ratings_count_movies = movies['rating'].value_counts()"
      ],
      "execution_count": 186,
      "outputs": []
    },
    {
      "cell_type": "code",
      "metadata": {
        "colab": {
          "base_uri": "https://localhost:8080/",
          "height": 355
        },
        "id": "jxebFq8Ljq3z",
        "outputId": "ea2bd79d-b41e-4c3e-b203-963e87bd778e"
      },
      "source": [
        "plt.figure(figsize=(22, 5))\r\n",
        "plt.subplot(1,2,1)\r\n",
        "plt.title(\"Distribution of Netflix age ratings (TV Shows)\")\r\n",
        "plt.xlabel(\"Rating\")\r\n",
        "plt.ylabel(\"Frequency\")\r\n",
        "plt.bar(x = ratings_count_tv.index, height = ratings_count_tv.values)\r\n",
        "\r\n",
        "plt.subplot(1,2,2)\r\n",
        "plt.title(\"Distribution of Netflix ratings (Movies)\")\r\n",
        "plt.xlabel(\"Rating\")\r\n",
        "plt.ylabel(\"Frequency\")\r\n",
        "plt.bar(x = ratings_count_movies.index, height = ratings_count_movies.values)\r\n",
        "plt.show()"
      ],
      "execution_count": 187,
      "outputs": [
        {
          "output_type": "display_data",
          "data": {
            "image/png": "[encoded data removed]",
            "text/plain": [
              "<Figure size 1584x360 with 2 Axes>"
            ]
          },
          "metadata": {
            "tags": []
          }
        }
      ]
    },
    {
      "cell_type": "markdown",
      "metadata": {
        "id": "aoljjOG8Sq-K"
      },
      "source": [
        "Next, we can look at how many new titles were added to Netflix each year."
      ]
    },
    {
      "cell_type": "code",
      "metadata": {
        "id": "KzuMNk4Bg2h0"
      },
      "source": [
        "year_count = data_conv['date_added'].dt.year.value_counts()"
      ],
      "execution_count": 190,
      "outputs": []
    },
    {
      "cell_type": "code",
      "metadata": {
        "colab": {
          "base_uri": "https://localhost:8080/"
        },
        "id": "VMNEe3W1189x",
        "outputId": "678b20c1-af7f-4bce-9c09-f5ea5e93f2d5"
      },
      "source": [
        "year_count"
      ],
      "execution_count": 191,
      "outputs": [
        {
          "output_type": "execute_result",
          "data": {
            "text/plain": [
              "2019.0    2153\n",
              "2020.0    2009\n",
              "2018.0    1685\n",
              "2017.0    1225\n",
              "2016.0     443\n",
              "2021.0     117\n",
              "2015.0      88\n",
              "2014.0      25\n",
              "2011.0      13\n",
              "2013.0      11\n",
              "2012.0       3\n",
              "2009.0       2\n",
              "2008.0       2\n",
              "2010.0       1\n",
              "Name: date_added, dtype: int64"
            ]
          },
          "metadata": {
            "tags": []
          },
          "execution_count": 191
        }
      ]
    },
    {
      "cell_type": "code",
      "metadata": {
        "id": "rt7RWyzv3XQK"
      },
      "source": [
        "year_count = year_count.sort_index()"
      ],
      "execution_count": 192,
      "outputs": []
    },
    {
      "cell_type": "code",
      "metadata": {
        "colab": {
          "base_uri": "https://localhost:8080/",
          "height": 428
        },
        "id": "lZFSO0hh1_rP",
        "outputId": "ad74c700-f344-42d9-a5d1-ed1d1c34f125"
      },
      "source": [
        "plt.figure(figsize = (12, 6))\r\n",
        "plt.scatter(x = year_count.index, y = year_count.values)\r\n",
        "for i in range(len(year_count)):\r\n",
        "    plt.text(x = year_count.index[i], y = year_count.values[i]+25, s = year_count.values[i])\r\n",
        "plt.title(\"Titles added to Netflix each year\")\r\n",
        "plt.xlabel(\"Year\")\r\n",
        "plt.ylabel(\"Count\")\r\n",
        "plt.xticks(np.arange(min(year_count.index), max(year_count.index)+1))\r\n",
        "plt.plot()"
      ],
      "execution_count": 197,
      "outputs": [
        {
          "output_type": "execute_result",
          "data": {
            "text/plain": [
              "[]"
            ]
          },
          "metadata": {
            "tags": []
          },
          "execution_count": 197
        },
        {
          "output_type": "display_data",
          "data": {
            "image/png": "[encoded data removed]",
            "text/plain": [
              "<Figure size 864x432 with 1 Axes>"
            ]
          },
          "metadata": {
            "tags": []
          }
        }
      ]
    },
    {
      "cell_type": "code",
      "metadata": {
        "colab": {
          "base_uri": "https://localhost:8080/",
          "height": 537
        },
        "id": "bRQGSEb24cWk",
        "outputId": "5ea90a58-9d2a-4965-db7b-6dcbc345185e"
      },
      "source": [
        "data_conv[data_conv['date_added'].isna()]"
      ],
      "execution_count": 188,
      "outputs": [
        {
          "output_type": "execute_result",
          "data": {
            "text/html": [
              "<div>\n",
              "<style scoped>\n",
              "    .dataframe tbody tr th:only-of-type {\n",
              "        vertical-align: middle;\n",
              "    }\n",
              "\n",
              "    .dataframe tbody tr th {\n",
              "        vertical-align: top;\n",
              "    }\n",
              "\n",
              "    .dataframe thead th {\n",
              "        text-align: right;\n",
              "    }\n",
              "</style>\n",
              "<table border=\"1\" class=\"dataframe\">\n",
              "  <thead>\n",
              "    <tr style=\"text-align: right;\">\n",
              "      <th></th>\n",
              "      <th>show_id</th>\n",
              "      <th>type</th>\n",
              "      <th>title</th>\n",
              "      <th>director</th>\n",
              "      <th>cast</th>\n",
              "      <th>country</th>\n",
              "      <th>date_added</th>\n",
              "      <th>release_year</th>\n",
              "      <th>rating</th>\n",
              "      <th>duration</th>\n",
              "      <th>listed_in</th>\n",
              "      <th>description</th>\n",
              "    </tr>\n",
              "  </thead>\n",
              "  <tbody>\n",
              "    <tr>\n",
              "      <th>258</th>\n",
              "      <td>s259</td>\n",
              "      <td>TV Show</td>\n",
              "      <td>A Young Doctor's Notebook and Other Stories</td>\n",
              "      <td>&lt;NA&gt;</td>\n",
              "      <td>Daniel Radcliffe, Jon Hamm, Adam Godley, Chris...</td>\n",
              "      <td>United Kingdom</td>\n",
              "      <td>NaT</td>\n",
              "      <td>2013</td>\n",
              "      <td>TV-MA</td>\n",
              "      <td>2 Seasons</td>\n",
              "      <td>British TV Shows, TV Comedies, TV Dramas</td>\n",
              "      <td>Set during the Russian Revolution, this comic ...</td>\n",
              "    </tr>\n",
              "    <tr>\n",
              "      <th>549</th>\n",
              "      <td>s550</td>\n",
              "      <td>TV Show</td>\n",
              "      <td>Anthony Bourdain: Parts Unknown</td>\n",
              "      <td>&lt;NA&gt;</td>\n",
              "      <td>Anthony Bourdain</td>\n",
              "      <td>United States</td>\n",
              "      <td>NaT</td>\n",
              "      <td>2018</td>\n",
              "      <td>TV-PG</td>\n",
              "      <td>5 Seasons</td>\n",
              "      <td>Docuseries</td>\n",
              "      <td>This CNN original series has chef Anthony Bour...</td>\n",
              "    </tr>\n",
              "    <tr>\n",
              "      <th>2263</th>\n",
              "      <td>s2264</td>\n",
              "      <td>TV Show</td>\n",
              "      <td>Frasier</td>\n",
              "      <td>&lt;NA&gt;</td>\n",
              "      <td>Kelsey Grammer, Jane Leeves, David Hyde Pierce...</td>\n",
              "      <td>United States</td>\n",
              "      <td>NaT</td>\n",
              "      <td>2003</td>\n",
              "      <td>TV-PG</td>\n",
              "      <td>11 Seasons</td>\n",
              "      <td>Classic &amp; Cult TV, TV Comedies</td>\n",
              "      <td>Frasier Crane is a snooty but lovable Seattle ...</td>\n",
              "    </tr>\n",
              "    <tr>\n",
              "      <th>2288</th>\n",
              "      <td>s2289</td>\n",
              "      <td>TV Show</td>\n",
              "      <td>Friends</td>\n",
              "      <td>&lt;NA&gt;</td>\n",
              "      <td>Jennifer Aniston, Courteney Cox, Lisa Kudrow, ...</td>\n",
              "      <td>United States</td>\n",
              "      <td>NaT</td>\n",
              "      <td>2003</td>\n",
              "      <td>TV-14</td>\n",
              "      <td>10 Seasons</td>\n",
              "      <td>Classic &amp; Cult TV, TV Comedies</td>\n",
              "      <td>This hit sitcom follows the merry misadventure...</td>\n",
              "    </tr>\n",
              "    <tr>\n",
              "      <th>2555</th>\n",
              "      <td>s2556</td>\n",
              "      <td>TV Show</td>\n",
              "      <td>Gunslinger Girl</td>\n",
              "      <td>&lt;NA&gt;</td>\n",
              "      <td>Yuuka Nanri, Kanako Mitsuhashi, Eri Sendai, Am...</td>\n",
              "      <td>Japan</td>\n",
              "      <td>NaT</td>\n",
              "      <td>2008</td>\n",
              "      <td>TV-14</td>\n",
              "      <td>2 Seasons</td>\n",
              "      <td>Anime Series, Crime TV Shows</td>\n",
              "      <td>On the surface, the Social Welfare Agency appe...</td>\n",
              "    </tr>\n",
              "    <tr>\n",
              "      <th>3374</th>\n",
              "      <td>s3375</td>\n",
              "      <td>TV Show</td>\n",
              "      <td>Kikoriki</td>\n",
              "      <td>&lt;NA&gt;</td>\n",
              "      <td>Igor Dmitriev</td>\n",
              "      <td>&lt;NA&gt;</td>\n",
              "      <td>NaT</td>\n",
              "      <td>2010</td>\n",
              "      <td>TV-Y</td>\n",
              "      <td>2 Seasons</td>\n",
              "      <td>Kids' TV</td>\n",
              "      <td>A wacky rabbit and his gang of animal pals hav...</td>\n",
              "    </tr>\n",
              "    <tr>\n",
              "      <th>3492</th>\n",
              "      <td>s3493</td>\n",
              "      <td>TV Show</td>\n",
              "      <td>La Familia P. Luche</td>\n",
              "      <td>&lt;NA&gt;</td>\n",
              "      <td>Eugenio Derbez, Consuelo Duval, Luis Manuel Áv...</td>\n",
              "      <td>United States</td>\n",
              "      <td>NaT</td>\n",
              "      <td>2012</td>\n",
              "      <td>TV-14</td>\n",
              "      <td>3 Seasons</td>\n",
              "      <td>International TV Shows, Spanish-Language TV Sh...</td>\n",
              "      <td>This irreverent sitcom featues Ludovico, Feder...</td>\n",
              "    </tr>\n",
              "    <tr>\n",
              "      <th>3946</th>\n",
              "      <td>s3947</td>\n",
              "      <td>TV Show</td>\n",
              "      <td>Maron</td>\n",
              "      <td>&lt;NA&gt;</td>\n",
              "      <td>Marc Maron, Judd Hirsch, Josh Brener, Nora Zeh...</td>\n",
              "      <td>United States</td>\n",
              "      <td>NaT</td>\n",
              "      <td>2016</td>\n",
              "      <td>TV-MA</td>\n",
              "      <td>4 Seasons</td>\n",
              "      <td>TV Comedies</td>\n",
              "      <td>Marc Maron stars as Marc Maron, who interviews...</td>\n",
              "    </tr>\n",
              "    <tr>\n",
              "      <th>5137</th>\n",
              "      <td>s5138</td>\n",
              "      <td>TV Show</td>\n",
              "      <td>Red vs. Blue</td>\n",
              "      <td>&lt;NA&gt;</td>\n",
              "      <td>Burnie Burns, Jason Saldaña, Gustavo Sorola, G...</td>\n",
              "      <td>United States</td>\n",
              "      <td>NaT</td>\n",
              "      <td>2015</td>\n",
              "      <td>NR</td>\n",
              "      <td>13 Seasons</td>\n",
              "      <td>TV Action &amp; Adventure, TV Comedies, TV Sci-Fi ...</td>\n",
              "      <td>This parody of first-person shooter games, mil...</td>\n",
              "    </tr>\n",
              "    <tr>\n",
              "      <th>6065</th>\n",
              "      <td>s6066</td>\n",
              "      <td>TV Show</td>\n",
              "      <td>The Adventures of Figaro Pho</td>\n",
              "      <td>&lt;NA&gt;</td>\n",
              "      <td>Luke Jurevicius, Craig Behenna, Charlotte Haml...</td>\n",
              "      <td>Australia</td>\n",
              "      <td>NaT</td>\n",
              "      <td>2015</td>\n",
              "      <td>TV-Y7</td>\n",
              "      <td>2 Seasons</td>\n",
              "      <td>Kids' TV, TV Comedies</td>\n",
              "      <td>Imagine your worst fears, then multiply them: ...</td>\n",
              "    </tr>\n",
              "  </tbody>\n",
              "</table>\n",
              "</div>"
            ],
            "text/plain": [
              "     show_id  ...                                        description\n",
              "258     s259  ...  Set during the Russian Revolution, this comic ...\n",
              "549     s550  ...  This CNN original series has chef Anthony Bour...\n",
              "2263   s2264  ...  Frasier Crane is a snooty but lovable Seattle ...\n",
              "2288   s2289  ...  This hit sitcom follows the merry misadventure...\n",
              "2555   s2556  ...  On the surface, the Social Welfare Agency appe...\n",
              "3374   s3375  ...  A wacky rabbit and his gang of animal pals hav...\n",
              "3492   s3493  ...  This irreverent sitcom featues Ludovico, Feder...\n",
              "3946   s3947  ...  Marc Maron stars as Marc Maron, who interviews...\n",
              "5137   s5138  ...  This parody of first-person shooter games, mil...\n",
              "6065   s6066  ...  Imagine your worst fears, then multiply them: ...\n",
              "\n",
              "[10 rows x 12 columns]"
            ]
          },
          "metadata": {
            "tags": []
          },
          "execution_count": 188
        }
      ]
    },
    {
      "cell_type": "markdown",
      "metadata": {
        "id": "FWpFlTuaSeWK"
      },
      "source": [
        "So, ten of the titles in this dataset do not have dates for when they were added."
      ]
    },
    {
      "cell_type": "code",
      "metadata": {
        "id": "BQlpzwd72YAZ"
      },
      "source": [
        ""
      ],
      "execution_count": null,
      "outputs": []
    }
  ]
}